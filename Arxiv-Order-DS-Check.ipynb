{
 "cells": [
  {
   "cell_type": "code",
   "execution_count": 17,
   "metadata": {},
   "outputs": [],
   "source": [
    "import torch\n",
    "from imp import reload\n",
    "from torch.utils.data import DataLoader"
   ]
  },
  {
   "cell_type": "code",
   "execution_count": 4,
   "metadata": {},
   "outputs": [],
   "source": [
    "from utils import Arxiv"
   ]
  },
  {
   "cell_type": "code",
   "execution_count": 50,
   "metadata": {},
   "outputs": [],
   "source": [
    "reload(Arxiv)\n",
    "Dataset = Arxiv.Arxiv"
   ]
  },
  {
   "cell_type": "code",
   "execution_count": 51,
   "metadata": {},
   "outputs": [
    {
     "name": "stdout",
     "output_type": "stream",
     "text": [
      "from data: data loaded\n"
     ]
    }
   ],
   "source": [
    "dataset = Dataset('../Data/arXiv/test.txt',limit=100)"
   ]
  },
  {
   "cell_type": "code",
   "execution_count": 52,
   "metadata": {},
   "outputs": [
    {
     "name": "stdout",
     "output_type": "stream",
     "text": [
      "['physics:astro-ph']\n",
      "['A', 'revised', 'catalogue', 'of', '274', 'Galactic', 'supernova', 'remnants', '(SNRs)', 'is', 'presented,', 'along', 'with', 'some', 'simple', 'statistics', 'of', 'their', 'parameters.']\n",
      "['It', 'is', 'shown', 'that', 'the', 'remnants', 'that', 'have', 'recently', 'been', 'identified', 'are', 'generally', 'faint,', 'as', 'is', 'expected', 'from', 'the', 'selection', 'effects', 'that', 'apply', 'to', 'the', 'identification', 'of', 'remnants.']\n"
     ]
    }
   ],
   "source": [
    "for d in dataset.__getitem__(1)['data']:\n",
    "    print(d)"
   ]
  },
  {
   "cell_type": "code",
   "execution_count": 71,
   "metadata": {},
   "outputs": [],
   "source": [
    "def batchify(batch):\n",
    "    data = []\n",
    "    labels = []\n",
    "    lengths = []\n",
    "    for d in batch:\n",
    "        data.append(d['data'])\n",
    "        labels.append(d['labels'])\n",
    "        lengths.append(d['lengths'])\n",
    "    \n",
    "    return {'data':data, 'labels':labels, 'lengths':lengths}"
   ]
  },
  {
   "cell_type": "code",
   "execution_count": 72,
   "metadata": {
    "scrolled": true
   },
   "outputs": [
    {
     "name": "stdout",
     "output_type": "stream",
     "text": [
      "{'data': [[['physics:gr-qc'], ['We', 'argue', 'that', 'the', 'standard', 'canonical', 'treatment', 'of', 'GR', 'breaks', 'manifest', 'spacetime', 'covariance.'], ['We', 'present', 'new', 'variables', 'which', 'carry', 'a', 'reducible', 'representation', 'of', 'gauge', 'transformations', 'and', 'spacetime', 'diffeomorphisms.'], ['A', 'proposal', 'is', 'presented', 'for', 'an', 'action', 'designed', 'to', 'realize', 'these', 'symmetries', 'at', 'the', 'canonical', 'level.']], [['physics:astro-ph'], ['A', 'revised', 'catalogue', 'of', '274', 'Galactic', 'supernova', 'remnants', '(SNRs)', 'is', 'presented,', 'along', 'with', 'some', 'simple', 'statistics', 'of', 'their', 'parameters.'], ['It', 'is', 'shown', 'that', 'the', 'remnants', 'that', 'have', 'recently', 'been', 'identified', 'are', 'generally', 'faint,', 'as', 'is', 'expected', 'from', 'the', 'selection', 'effects', 'that', 'apply', 'to', 'the', 'identification', 'of', 'remnants.']], [['physics:cond-mat'], ['The', 'in-plane', 'infrared', 'response', 'of', 'the', 'high-Tc', 'cuprate', 'superconductors', 'was', 'studied', 'using', 'the', 'spin-fermion', 'model,', 'where', 'charged', 'quasiparticles', 'of', 'the', 'copper-oxygen', 'planes', 'are', 'coupled', 'to', 'spin', 'fluctuations.'], ['First,', 'we', 'analyzed', 'structures', 'of', 'the', 'superconducting-state', 'conductivity', 'reflecting', 'the', 'coupling', 'of', 'the', 'quasiparticles', 'to', 'the', 'resonance', 'mode', 'observed', 'by', 'neutron', 'scattering.'], ['The', 'conductivity', 'computed', 'with', 'the', 'input', 'spin', 'susceptibility', 'in', 'the', 'simple', 'form', 'of', 'the', 'mode', 'exhibits', 'two', 'prominent', 'features:', 'an', 'onset', 'of', 'the', 'real', 'part', 'of', 'the', 'conductivity', 'starting', 'around', 'the', 'frequency', 'of', 'the', 'mode', 'omega_{0}', 'and', 'a', 'maximum', 'of', 'a', 'related', 'function', 'W(omega),', 'roughly', 'proportional', 'to', 'the', 'second', 'derivative', 'of', 'the', 'scattering', 'rate,', 'centered', 'approximately', 'at', 'omega=omega_{0}+Delta_{0}/hbar,', 'where', 'Delta_{0}', 'is', 'the', 'maximum', 'value', 'of', 'the', 'superconducting', 'gap.'], ['The', 'two', 'structures', 'are', 'well', 'known', 'from', 'earlier', 'studies.'], ['Their', 'physical', 'meaning,', 'however,', 'has', 'not', 'been', 'sufficiently', 'elucidated', 'thus', 'far.'], ['Our', 'analysis', 'involving', 'quasiparticle', 'spectral', 'functions', 'provides', 'a', 'clear', 'interpretation.'], ['Second,', 'we', 'explored', 'the', 'role', 'played', 'by', 'the', 'spin-fluctuation', 'continuum.'], ['Third,', 'we', 'investigated', 'the', 'temperature', 'dependence', 'of', 'the', 'conductivity,', 'of', 'the', 'intraband', 'spectral', 'weight,', 'and', 'of', 'the', 'effective', 'kinetic', 'energy.'], ['The', 'changes', 'of', 'the', 'latter', 'two', 'quantities', 'below', 'Tc', 'are', 'determined', 'by', 'the', 'formation', 'of', 'the', 'gap,', 'by', 'a', 'feedback', 'effect', 'of', 'the', 'spin', 'fluctuations', 'on', 'the', 'quasiparticles,', 'and', 'by', 'a', 'significant', 'shift', 'of', 'the', 'chemical', 'potential.']], [['physics:quant-ph'], ['The', 'operations', 'of', 'data', 'set,', 'such', 'as', 'intersection,', 'union', 'and', 'complement,', 'are', 'the', 'fundamental', 'calculation', 'in', 'mathematics.'], [\"It's\", 'very', 'significant', 'that', 'designing', 'fast', 'algorithm', 'for', 'set', 'operation.'], ['In', 'this', 'paper,', 'the', 'quantum', 'algorithm', 'for', 'intersection', 'is', 'presented.'], ['And', 'its', 'running', 'time', 'is', 'sqrt(|A|*|B|*|C|)', 'for', 'set', 'operation', 'C', '=', 'A', 'intersection', 'B,', 'while', 'classical', 'computation', 'needs', 'O', '(|A|', '*|B|)', 'steps', 'of', 'computation', 'in', 'general,', 'where', '|.|', 'denotes', 'the', 'size', 'of', 'set.'], ['The', 'presented', 'algorithm', 'is', 'the', 'combination', 'of', \"Grover's\", 'algorithm,', 'classical', 'memory', 'and', 'classical', 'iterative', 'computation,', 'and', 'the', 'combination', 'method', 'decrease', 'the', 'complexity', 'of', 'designing', 'quantum', 'algorithm.The', 'method', 'can', 'be', 'used', 'to', 'design', 'other', 'set', 'operations', 'also.']], [['cs'], ['Current', 'developments', 'in', 'molecular', 'electronics,', 'motors', 'and', 'chemical', 'sensors', 'could', 'enable', 'constructing', 'large', 'numbers', 'of', 'devices', 'able', 'to', 'sense,', 'compute', 'and', 'act', 'in', 'micron-scale', 'environments.'], ['Such', 'microscopic', 'machines,', 'of', 'sizes', 'comparable', 'to', 'bacteria,', 'could', 'simultaneously', 'monitor', 'entire', 'populations', 'of', 'cells', 'individually', 'in', 'vivo.'], ['This', 'paper', 'reviews', 'plausible', 'capabilities', 'for', 'microscopic', 'robots', 'and', 'the', 'physical', 'constraints', 'due', 'to', 'operation', 'in', 'fluids', 'at', 'low', 'Reynolds', 'number,', 'diffusion-limited', 'sensing', 'and', 'thermal', 'noise', 'from', 'Brownian', 'motion.'], ['Simple', 'distributed', 'controls', 'are', 'then', 'presented', 'in', 'the', 'context', 'of', 'prototypical', 'biomedical', 'tasks,', 'which', 'require', 'control', 'decisions', 'on', 'millisecond', 'time', 'scales.'], ['The', 'resulting', 'behaviors', 'illustrate', 'trade-offs', 'among', 'speed,', 'accuracy', 'and', 'resource', 'use.'], ['A', 'specific', 'example', 'is', 'monitoring', 'for', 'patterns', 'of', 'chemicals', 'in', 'a', 'flowing', 'fluid', 'released', 'at', 'chemically', 'distinctive', 'sites.'], ['Information', 'collected', 'from', 'a', 'large', 'number', 'of', 'such', 'devices', 'allows', 'estimating', 'properties', 'of', 'cell-sized', 'chemical', 'sources', 'in', 'a', 'macroscopic', 'volume.'], ['The', 'microscopic', 'devices', 'moving', 'with', 'the', 'fluid', 'flow', 'in', 'small', 'blood', 'vessels', 'can', 'detect', 'chemicals', 'released', 'by', 'tissues', 'in', 'response', 'to', 'localized', 'injury', 'or', 'infection.'], ['We', 'find', 'the', 'devices', 'can', 'readily', 'discriminate', 'a', 'single', 'cell-sized', 'chemical', 'source', 'from', 'the', 'background', 'chemical', 'concentration,', 'providing', 'high-resolution', 'sensing', 'in', 'both', 'time', 'and', 'space.'], ['By', 'contrast,', 'such', 'a', 'source', 'would', 'be', 'difficult', 'to', 'distinguish', 'from', 'background', 'when', 'diluted', 'throughout', 'the', 'blood', 'volume', 'as', 'obtained', 'with', 'a', 'blood', 'sample.']]], 'labels': [[0, 1, 2, 3], [0, 1, 2], [0, 1, 2, 3, 4, 5, 6, 7, 8, 9], [0, 1, 2, 3, 4, 5], [0, 1, 2, 3, 4, 5, 6, 7, 8, 9, 10]], 'lengths': [[1, 13, 15, 16], [1, 19, 28], [1, 27, 22, 68, 9, 11, 10, 10, 20, 37], [1, 17, 10, 10, 33, 36], [1, 25, 18, 29, 21, 11, 18, 20, 25, 25, 24]]}\n"
     ]
    }
   ],
   "source": [
    "dataloader = DataLoader(dataset, batch_size=5,shuffle=False, num_workers=1,collate_fn=batchify)\n",
    "for i_batch, batch in enumerate(dataloader):\n",
    "    print(batch)\n",
    "    break"
   ]
  },
  {
   "cell_type": "code",
   "execution_count": 74,
   "metadata": {},
   "outputs": [
    {
     "name": "stdout",
     "output_type": "stream",
     "text": [
      "[[0, 1, 2, 3], [0, 1, 2], [0, 1, 2, 3, 4, 5, 6, 7, 8, 9], [0, 1, 2, 3, 4, 5], [0, 1, 2, 3, 4, 5, 6, 7, 8, 9, 10]]\n"
     ]
    }
   ],
   "source": [
    "print(batch['labels'])"
   ]
  }
 ],
 "metadata": {
  "kernelspec": {
   "display_name": "Python 3",
   "language": "python",
   "name": "python3"
  },
  "language_info": {
   "codemirror_mode": {
    "name": "ipython",
    "version": 3
   },
   "file_extension": ".py",
   "mimetype": "text/x-python",
   "name": "python",
   "nbconvert_exporter": "python",
   "pygments_lexer": "ipython3",
   "version": "3.7.2"
  }
 },
 "nbformat": 4,
 "nbformat_minor": 2
}
